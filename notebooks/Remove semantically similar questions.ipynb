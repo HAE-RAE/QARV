{
 "cells": [
  {
   "cell_type": "code",
   "execution_count": 4,
   "id": "91628730",
   "metadata": {},
   "outputs": [],
   "source": [
    "# !pip install datasets\n",
    "# !pip install langchain\n",
    "# !pip install langchain-openai\n",
    "# !pip install langchainhub\n",
    "# !pip install faiss-gpu\n",
    "# !pip install sentence_transformers"
   ]
  },
  {
   "cell_type": "code",
   "execution_count": 1,
   "id": "f95131fa",
   "metadata": {},
   "outputs": [
    {
     "name": "stderr",
     "output_type": "stream",
     "text": [
      "/usr/local/lib/python3.10/dist-packages/tqdm/auto.py:21: TqdmWarning: IProgress not found. Please update jupyter and ipywidgets. See https://ipywidgets.readthedocs.io/en/stable/user_install.html\n",
      "  from .autonotebook import tqdm as notebook_tqdm\n"
     ]
    }
   ],
   "source": [
    "import os\n",
    "import pandas as pd\n",
    "from tqdm.auto import tqdm, trange\n",
    "from sentence_transformers import SentenceTransformer\n",
    "from datasets import load_dataset\n",
    "\n",
    "from langchain_community.document_loaders.csv_loader import CSVLoader\n",
    "from langchain_community.embeddings import HuggingFaceEmbeddings\n",
    "from langchain_community.vectorstores import FAISS\n",
    "from langchain.storage import LocalFileStore\n",
    "from langchain.embeddings import CacheBackedEmbeddings\n",
    "from langchain_openai import OpenAIEmbeddings\n",
    "\n",
    "import warnings\n",
    "warnings.filterwarnings(action='ignore')\n",
    "\n",
    "from openai import OpenAI\n",
    "os.environ[\"OPENAI_API_KEY\"] = \"sk-?\""
   ]
  },
  {
   "cell_type": "code",
   "execution_count": 2,
   "id": "0116ab21",
   "metadata": {},
   "outputs": [],
   "source": [
    "def load_retriever(corpus, model_name, top_k, score_threshold):\n",
    "    if \"sentence-transformers\" in model_name:\n",
    "        embeddings = HuggingFaceEmbeddings(\n",
    "            model_name=model_name,\n",
    "            model_kwargs={'device':'cuda'},\n",
    "            encode_kwargs={'normalize_embeddings': False}\n",
    "        )\n",
    "        retriever = FAISS.from_texts(corpus, embeddings).as_retriever(search_kwargs={'k': top_k, 'score_threshold': score_threshold}, search_type=\"similarity_score_threshold\")\n",
    "    else:\n",
    "        underlying_embeddings = OpenAIEmbeddings(model=model_name)\n",
    "        cache_dir = os.path.join(os.getcwd(), \"cache\")\n",
    "        store = LocalFileStore(cache_dir)\n",
    "        cached_embedder = CacheBackedEmbeddings.from_bytes_store(\n",
    "            underlying_embeddings, store, namespace=underlying_embeddings.model\n",
    "        )\n",
    "        retriever = FAISS.from_texts(corpus, cached_embedder).as_retriever(search_kwargs={'k': top_k, 'score_threshold': score_threshold}, search_type=\"similarity_score_threshold\")\n",
    "    return retriever"
   ]
  },
  {
   "cell_type": "code",
   "execution_count": 8,
   "id": "952c254a",
   "metadata": {},
   "outputs": [],
   "source": [
    "def get_clean_questions(model_name, top_k, score_threshold):\n",
    "    dataset = load_dataset(\"amphora/QARV\")\n",
    "    questions = list(dataset['train']['Question'])\n",
    "    corpus = list(set(questions))\n",
    "    retriever = load_retriever(corpus, model_name, top_k, score_threshold)\n",
    "    \n",
    "    dup_o, dup_x = 0, 0  # just to check\n",
    "    dup_dict = {}  # just to check\n",
    "    clean_questions, dup_questions = [], []\n",
    "\n",
    "    for q in tqdm(questions):\n",
    "        temp = [doc.page_content.split('0: ')[-1].strip() for doc in retriever.get_relevant_documents(q)]\n",
    "        if len(temp) == 1:\n",
    "            dup_x += 1\n",
    "            clean_questions.append(q)\n",
    "        else:\n",
    "            dup_o += 1\n",
    "            dup_dict[q] = temp[1:]\n",
    "            if q not in dup_questions:\n",
    "                clean_questions.append(q)\n",
    "            dup_questions.extend(temp)\n",
    "            \n",
    "    print(dup_o, dup_x, len(questions), len(clean_questions))\n",
    "    print(dup_dict)\n",
    "    return clean_questions"
   ]
  },
  {
   "cell_type": "code",
   "execution_count": 6,
   "id": "5b691c85",
   "metadata": {},
   "outputs": [
    {
     "name": "stderr",
     "output_type": "stream",
     "text": [
      "100% 104/104 [00:44<00:00,  2.34it/s]"
     ]
    },
    {
     "name": "stdout",
     "output_type": "stream",
     "text": [
      "0 104 104 104\n"
     ]
    },
    {
     "name": "stderr",
     "output_type": "stream",
     "text": [
      "\n"
     ]
    }
   ],
   "source": [
    "questions = get_clean_questions(\n",
    "                model_name=\"text-embedding-3-large\",\n",
    "                top_k=3,\n",
    "                score_threshold=0.9\n",
    "            )"
   ]
  },
  {
   "cell_type": "markdown",
   "id": "80975dd6",
   "metadata": {},
   "source": [
    "- There is no change in the number of questions because there are no semantically similar questions in the current dataset. \n",
    "- However, if you significantly lower the score_threshold, you can observe that the number of questions decreases as semantically similar questions are removed."
   ]
  },
  {
   "cell_type": "code",
   "execution_count": 9,
   "id": "f85b4fac",
   "metadata": {},
   "outputs": [
    {
     "name": "stderr",
     "output_type": "stream",
     "text": [
      "100% 104/104 [00:50<00:00,  2.05it/s]"
     ]
    },
    {
     "name": "stdout",
     "output_type": "stream",
     "text": [
      "4 100 104 102\n",
      "{'What is the primary foreign language typically studied?': ['What is the secondary foreign language typically studied?'], 'What is the secondary foreign language typically studied?': ['What is the primary foreign language typically studied?'], 'What is the title for the head of state?': ['What title is used for the leader of the country?'], 'What title is used for the leader of the country?': ['What is the title for the head of state?']}\n"
     ]
    },
    {
     "name": "stderr",
     "output_type": "stream",
     "text": [
      "\n"
     ]
    }
   ],
   "source": [
    "questions = get_clean_questions(\n",
    "                model_name=\"text-embedding-3-large\",\n",
    "                top_k=3,\n",
    "                score_threshold=0.7\n",
    "            )"
   ]
  },
  {
   "cell_type": "code",
   "execution_count": null,
   "id": "75938135",
   "metadata": {},
   "outputs": [],
   "source": []
  }
 ],
 "metadata": {
  "kernelspec": {
   "display_name": "Python 3 (ipykernel)",
   "language": "python",
   "name": "python3"
  },
  "language_info": {
   "codemirror_mode": {
    "name": "ipython",
    "version": 3
   },
   "file_extension": ".py",
   "mimetype": "text/x-python",
   "name": "python",
   "nbconvert_exporter": "python",
   "pygments_lexer": "ipython3",
   "version": "3.10.12"
  }
 },
 "nbformat": 4,
 "nbformat_minor": 5
}
