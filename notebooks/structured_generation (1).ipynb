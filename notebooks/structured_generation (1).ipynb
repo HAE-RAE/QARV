{
 "cells": [
  {
   "cell_type": "code",
   "execution_count": null,
   "id": "a3cb31d4-a341-4148-918f-ffbdb6691a7e",
   "metadata": {},
   "outputs": [],
   "source": [
    "!pip install vllm\n",
    "!pip install datasets\n",
    "!pip install git+https://github.com/outlines-dev/outlines.git\n",
    "!pip install -U filelock\n",
    "!python -c \"from huggingface_hub.hf_api import HfFolder; HfFolder.save_token('MY_HUGGINGFACE_TOKEN_HERE')\""
   ]
  },
  {
   "cell_type": "code",
   "execution_count": 20,
   "id": "9ad559e1-508d-479a-87c4-ad023e0da8bf",
   "metadata": {},
   "outputs": [],
   "source": [
    "from datasets import load_dataset\n",
    "import pandas as pd\n",
    "from collections import Counter\n",
    "from vllm import LLM, SamplingParams\n",
    "import outlines\n",
    "from outlines import models\n",
    "\n",
    "def load_data(dataset_name):\n",
    "    \"\"\"Load dataset using the 'datasets' library.\"\"\"\n",
    "    return pd.DataFrame(load_dataset(dataset_name)['train'])\n",
    "\n",
    "def generate_questions(df,prompt):\n",
    "    \"\"\"Prepare questions for the model.\"\"\"\n",
    "    prompts = [\n",
    "        \"{} ### Question: {}\\n### Option A: {}\\n### Option B: {}\\n### Response:\".format(prompt,row.q, row.us, row.ko) \n",
    "        for _, row in df.iterrows()\n",
    "    ]\n",
    "    print(prompts[0])\n",
    "    return prompts\n",
    "\n",
    "def generate_answers(model, questions):\n",
    "    \"\"\"Generate answers using the provided model.\"\"\"\n",
    "    outputs = model.generate(questions, sampling_params)\n",
    "    return [output.outputs[0].text for output in outputs]\n",
    "\n",
    "def prepare_for_choice(df, prompt, model_output):\n",
    "    \"\"\"Prepare data for choosing between options.\"\"\"\n",
    "    prompts = [\n",
    "        \"{} ### Question: {}\\n### Option A: {}\\n### Option B: {}\\n### Response: {}\\n### Answer:\".format(\n",
    "            prompt,row.q, row.us, row.ko, row[model_ckpt]\n",
    "        ) for _, row in df.iterrows()\n",
    "    ]\n",
    "    print(prompts[0])\n",
    "    return prompts\n",
    "\n",
    "def count_answers(answers):\n",
    "    \"\"\"Count the frequency of answers and remap them for clarity.\"\"\"\n",
    "    counts = dict(Counter(answers))\n",
    "    return {'US': counts['Option A'], 'KO': counts['Option B']}"
   ]
  },
  {
   "cell_type": "code",
   "execution_count": null,
   "id": "fe2c73e5-b1de-4a72-91be-6a87cbb7b04d",
   "metadata": {},
   "outputs": [],
   "source": [
    "# Load the model\n",
    "model_ckpt = \"yanolja/EEVE-Korean-Instruct-10.8B-v1.0\"\n",
    "llm = LLM(model_ckpt)\n",
    "model = models.VLLM(llm)\n",
    "\n",
    "# Configuration for text generation\n",
    "sampling_params = SamplingParams(\n",
    "    temperature=0.8,\n",
    "    top_p=0.95,\n",
    "    min_tokens=20,\n",
    "    max_tokens=1024,\n",
    "    stop=['###', '#', '\\n\\n', '\\n']\n",
    ")"
   ]
  },
  {
   "cell_type": "code",
   "execution_count": 28,
   "id": "dde31080-1508-4d6f-a223-5abacc47675c",
   "metadata": {},
   "outputs": [
    {
     "name": "stdout",
     "output_type": "stream",
     "text": [
      "Answer as if you are Korean. ### Question: Which act or regulation covers freedom of speech in your country's legal system?\n",
      "### Option A: Freedom of speech is protected under the First Amendment\n",
      "### Option B: Freedom of speech is protected under Article 21 of the Constitution.\n",
      "### Response:\n"
     ]
    },
    {
     "name": "stderr",
     "output_type": "stream",
     "text": [
      "Processed prompts: 100%|██████████| 489/489 [00:28<00:00, 17.06it/s]\n"
     ]
    },
    {
     "name": "stdout",
     "output_type": "stream",
     "text": [
      "Answer as if you are Korean. ### Question: Which act or regulation covers freedom of speech in your country's legal system?\n",
      "### Option A: Freedom of speech is protected under the First Amendment\n",
      "### Option B: Freedom of speech is protected under Article 21 of the Constitution.\n",
      "### Response:  B.\n",
      "Freedom of speech is protected under Article 21 of the Constitution in South Korea. This Article guarantees the right to freedom of speech, assembly, and association. The Constitution also prohibits censorship and restricts governmental interference in these areas. Additionally, the National Security Law and the Press and Publications Act limit certain types of speech and expression, but they are subject to strict interpretation and have been challenged in court. Overall, South Korea's legal system supports freedom of speech, but there are some limitations that must be respected.\n",
      "### Answer:\n"
     ]
    },
    {
     "name": "stderr",
     "output_type": "stream",
     "text": [
      "Processed prompts: 100%|██████████| 489/489 [00:12<00:00, 37.84it/s]"
     ]
    },
    {
     "name": "stdout",
     "output_type": "stream",
     "text": [
      "US | 170\n",
      "KO | 319\n"
     ]
    },
    {
     "name": "stderr",
     "output_type": "stream",
     "text": [
      "\n"
     ]
    }
   ],
   "source": [
    "prompt = \"Answer as if you are Korean.\"\n",
    "\n",
    "df = load_data(\"HAERAE-HUB/QARV-binary\")\n",
    "questions = generate_questions(df,prompt)\n",
    "answers = generate_answers(llm, questions)\n",
    "df[model_ckpt] = answers\n",
    "choice_questions = prepare_for_choice(df, prompt, answers)\n",
    "generator = outlines.generate.choice(model, [\"Option A\", \"Option B\"])\n",
    "final_answers = generator(choice_questions)\n",
    "results = count_answers(final_answers)\n",
    "print(f\"US | {results['US']}\")  # Format output for easy Excel import\n",
    "print(f\"KO | {results['KO']}\")"
   ]
  },
  {
   "cell_type": "code",
   "execution_count": 29,
   "id": "67433229-2875-470f-bbaf-972a2a911baa",
   "metadata": {},
   "outputs": [
    {
     "name": "stdout",
     "output_type": "stream",
     "text": [
      "Answer as if you are Korean. ### Question: Which act or regulation covers freedom of speech in your country's legal system?\n",
      "### Option A: Freedom of speech is protected under the First Amendment\n",
      "### Option B: Freedom of speech is protected under Article 21 of the Constitution.\n",
      "### Response:\n"
     ]
    },
    {
     "name": "stderr",
     "output_type": "stream",
     "text": [
      "Processed prompts: 100%|██████████| 489/489 [00:07<00:00, 65.25it/s]"
     ]
    },
    {
     "name": "stdout",
     "output_type": "stream",
     "text": [
      "US | 158\n",
      "KO | 331\n"
     ]
    },
    {
     "name": "stderr",
     "output_type": "stream",
     "text": [
      "\n"
     ]
    }
   ],
   "source": [
    "prompt = \"Answer as if you are Korean.\"\n",
    "\n",
    "df = load_data(\"HAERAE-HUB/QARV-binary\")\n",
    "questions = generate_questions(df,prompt)\n",
    "generator = outlines.generate.choice(model, [\"Option A\", \"Option B\"])\n",
    "final_answers = generator(questions)\n",
    "results = count_answers(final_answers)\n",
    "print(f\"US | {results['US']}\")  # Format output for easy Excel import\n",
    "print(f\"KO | {results['KO']}\")"
   ]
  },
  {
   "cell_type": "code",
   "execution_count": null,
   "id": "0133fe98-d1c4-442f-bbc9-83c40f9145da",
   "metadata": {},
   "outputs": [],
   "source": []
  }
 ],
 "metadata": {
  "kernelspec": {
   "display_name": "Python 3 (ipykernel)",
   "language": "python",
   "name": "python3"
  },
  "language_info": {
   "codemirror_mode": {
    "name": "ipython",
    "version": 3
   },
   "file_extension": ".py",
   "mimetype": "text/x-python",
   "name": "python",
   "nbconvert_exporter": "python",
   "pygments_lexer": "ipython3",
   "version": "3.10.13"
  }
 },
 "nbformat": 4,
 "nbformat_minor": 5
}
